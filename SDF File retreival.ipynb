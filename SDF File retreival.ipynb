{
 "cells": [
  {
   "cell_type": "markdown",
   "id": "09d7e99d",
   "metadata": {},
   "source": [
    "To download .sdf files of chemical structures and use them for QSARmodelling without manually downloading each and every molecule from database we can use rdkit library from python"
   ]
  },
  {
   "cell_type": "code",
   "execution_count": 13,
   "id": "0f22e541",
   "metadata": {},
   "outputs": [],
   "source": [
    "from rdkit import Chem\n",
    "from rdkit.Chem import SDWriter\n",
    "\n",
    "def separate_compounds(input_sdf_file, output_directory):\n",
    "    suppl = Chem.SDMolSupplier(input_sdf_file)\n",
    "    \n",
    "    for idx, mol in enumerate(suppl, 1):\n",
    "        if mol is None:\n",
    "            print(f\"Unable to read molecule {idx}. Skipping...\")\n",
    "            continue\n",
    "        \n",
    "        output_file = f\"{output_directory}/compound_{idx}.sdf\"\n",
    "        \n",
    "        writer = SDWriter(output_file)\n",
    "        writer.write(mol)\n",
    "        writer.close()\n",
    "        \n",
    "        print(f\"Compound {idx} saved as {output_file}\")\n",
    "    \n",
    "    print(\"Separation complete!\")\n",
    "    separate_compounds(\"D:\\\\\", \"D:\\\\project\\\\ligands\")\n"
   ]
  },
  {
   "cell_type": "code",
   "execution_count": 11,
   "id": "e18e35b9",
   "metadata": {},
   "outputs": [
    {
     "data": {
      "text/plain": [
       "<function __main__.separate_compounds(input_sdf_file, output_directory)>"
      ]
     },
     "execution_count": 11,
     "metadata": {},
     "output_type": "execute_result"
    }
   ],
   "source": [
    "separate_compounds"
   ]
  },
  {
   "cell_type": "code",
   "execution_count": 19,
   "id": "d74d8803",
   "metadata": {},
   "outputs": [],
   "source": [
    "import os\n",
    "from rdkit import Chem\n",
    "from rdkit.Chem import SDWriter\n",
    "\n",
    "def separate_compounds(input_sdf_file, output_directory):\n",
    "    if not os.path.exists(output_directory):\n",
    "        os.makedirs(output_directory)\n",
    "    \n",
    "    suppl = Chem.SDMolSupplier(input_sdf_file)\n",
    "    \n",
    "    for idx, mol in enumerate(suppl, 1):\n",
    "        if mol is None:\n",
    "            print(f\"Unable to read molecule {idx}. Skipping...\")\n",
    "            continue\n",
    "        \n",
    "        output_file = os.path.join(output_directory, f\"compound_{idx}.sdf\")\n",
    "        \n",
    "        writer = SDWriter(output_file)\n",
    "        writer.write(mol)\n",
    "        writer.close()\n",
    "        \n",
    "        print(f\"Compound {idx} saved as {output_file}\")\n",
    "    \n",
    "    print(\"Separation complete!\")\n",
    "    separate_compounds(\"D:\\\\\", \"D:\\\\project\\\\ligands\")\n"
   ]
  },
  {
   "cell_type": "code",
   "execution_count": 2,
   "id": "1e349e07",
   "metadata": {
    "scrolled": true
   },
   "outputs": [
    {
     "name": "stdout",
     "output_type": "stream",
     "text": [
      "Compound 1 saved as D:\\project\\LIGANDS\\chEMBL\\compound_1.sdf\n",
      "Separation complete!\n"
     ]
    },
    {
     "name": "stderr",
     "output_type": "stream",
     "text": [
      "[19:46:12] ERROR: Problems encountered parsing data fields\n",
      "[19:46:12] ERROR: moving to the beginning of the next molecule\n"
     ]
    }
   ],
   "source": [
    "import os\n",
    "from rdkit import Chem\n",
    "from rdkit.Chem import SDWriter\n",
    "\n",
    "def separate_compounds(input_sdf_file, output_directory):\n",
    "    if not os.path.exists(output_directory):\n",
    "        os.makedirs(output_directory)\n",
    "    \n",
    "    suppl = Chem.SDMolSupplier(input_sdf_file)\n",
    "    \n",
    "    for idx, mol in enumerate(suppl, 1):\n",
    "        if mol is None:\n",
    "            print(f\"Unable to read molecule {idx}. Skipping...\")\n",
    "            continue\n",
    "        \n",
    "        output_file = os.path.join(output_directory, f\"compound_{idx}.sdf\")\n",
    "        \n",
    "        try:\n",
    "            writer = SDWriter(output_file)\n",
    "            writer.write(mol)\n",
    "            writer.close()\n",
    "            print(f\"Compound {idx} saved as {output_file}\")\n",
    "        except Exception as e:\n",
    "            print(f\"An error occurred while saving compound {idx}: {str(e)}\")\n",
    "    \n",
    "    print(\"Separation complete!\")\n",
    "\n",
    "# Usage example\n",
    "input_sdf_file = r\"D:\\input.sdf\"\n",
    "output_directory = r\"D:\\project\\ligands\"\n",
    "\n",
    "separate_compounds(r\"D:\\project\\LIGANDS\\EMBL1.sdf\",r\"D:\\project\\LIGANDS\\chEMBL\")\n"
   ]
  },
  {
   "cell_type": "code",
   "execution_count": 3,
   "id": "3da7d939",
   "metadata": {},
   "outputs": [
    {
     "name": "stdout",
     "output_type": "stream",
     "text": [
      "Compound 1 saved as D:\\project\\LIGANDS\\chEMBL\\compound_1.sdf\n",
      "Separation complete!\n"
     ]
    },
    {
     "name": "stderr",
     "output_type": "stream",
     "text": [
      "[19:51:24] ERROR: Problems encountered parsing data fields\n",
      "[19:51:24] ERROR: moving to the beginning of the next molecule\n"
     ]
    }
   ],
   "source": [
    "import os\n",
    "from rdkit import Chem\n",
    "from rdkit.Chem import SDWriter\n",
    "\n",
    "def separate_compounds(input_sdf_file, output_directory):\n",
    "    if not os.path.exists(output_directory):\n",
    "        os.makedirs(output_directory)\n",
    "    \n",
    "    suppl = Chem.SDMolSupplier(input_sdf_file)\n",
    "    \n",
    "    for idx, mol in enumerate(suppl, 1):\n",
    "        if mol is None:\n",
    "            print(f\"Unable to read molecule {idx}. Skipping...\")\n",
    "            continue\n",
    "        \n",
    "        output_file = os.path.join(output_directory, f\"compound_{idx}.sdf\")\n",
    "        \n",
    "        try:\n",
    "            writer = SDWriter(output_file)\n",
    "            writer.write(mol)\n",
    "            writer.close()\n",
    "            print(f\"Compound {idx} saved as {output_file}\")\n",
    "        except Exception as e:\n",
    "            print(f\"An error occurred while saving compound {idx}: {str(e)}\")\n",
    "    \n",
    "    print(\"Separation complete!\")\n",
    "\n",
    "# Usage example\n",
    "input_sdf_file = r\"D:\\input.sdf\"\n",
    "output_directory = r\"D:\\project\\ligands\"\n",
    "\n",
    "separate_compounds(r\"D:\\project\\LIGANDS\\EMBL1.sdf\",r\"D:\\project\\LIGANDS\\chEMBL\")\n"
   ]
  },
  {
   "cell_type": "code",
   "execution_count": null,
   "id": "a234ed39",
   "metadata": {},
   "outputs": [],
   "source": []
  }
 ],
 "metadata": {
  "kernelspec": {
   "display_name": "Python 3 (ipykernel)",
   "language": "python",
   "name": "python3"
  },
  "language_info": {
   "codemirror_mode": {
    "name": "ipython",
    "version": 3
   },
   "file_extension": ".py",
   "mimetype": "text/x-python",
   "name": "python",
   "nbconvert_exporter": "python",
   "pygments_lexer": "ipython3",
   "version": "3.9.13"
  }
 },
 "nbformat": 4,
 "nbformat_minor": 5
}
