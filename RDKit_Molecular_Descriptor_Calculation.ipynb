{
 "cells": [
  {
   "cell_type": "markdown",
   "id": "6a4777d2",
   "metadata": {},
   "source": [
    "RDKit is a chemical library in python used to calculate molecular descriptors for .sdf files or for SMILES ID's"
   ]
  },
  {
   "cell_type": "markdown",
   "id": "c6ae68dd",
   "metadata": {},
   "source": [
    "for the below code to work we need to import RDKit library"
   ]
  },
  {
   "cell_type": "code",
   "execution_count": null,
   "id": "7547aec7",
   "metadata": {},
   "outputs": [],
   "source": [
    "pip install rdkit"
   ]
  },
  {
   "cell_type": "code",
   "execution_count": 2,
   "id": "fd6e9174",
   "metadata": {},
   "outputs": [
    {
     "name": "stdout",
     "output_type": "stream",
     "text": [
      "Molecular descriptors calculated and saved to: molecular_descriptors.xlsx\n"
     ]
    }
   ],
   "source": [
    "import pandas as pd\n",
    "from rdkit import Chem\n",
    "from rdkit.Chem import Descriptors\n",
    "from rdkit.ML.Descriptors import MoleculeDescriptors\n",
    "\n",
    "# Load the Excel file\n",
    "excel_file_path = ' ' # Replace with your file path\n",
    "df = pd.read_excel(excel_file_path)\n",
    "\n",
    "# Get canonical SMILES from the Excel sheet\n",
    "canonical_smiles = df['SMILES_ID'].tolist()\n",
    "\n",
    "# Convert canonical SMILES to RDKit molecules\n",
    "mols = [Chem.MolFromSmiles(smiles) for smiles in canonical_smiles]\n",
    "\n",
    "# Calculate molecular descriptors\n",
    "descriptor_calculator = MoleculeDescriptors.MolecularDescriptorCalculator([desc[0] for desc in Descriptors._descList])\n",
    "all_descriptors = [descriptor_calculator.CalcDescriptors(mol) for mol in mols]\n",
    "\n",
    "# Create a DataFrame to store descriptors with corresponding molecule names\n",
    "descriptor_names = [desc[0] for desc in Descriptors._descList]\n",
    "descriptor_df = pd.DataFrame(data=all_descriptors, columns=descriptor_names)\n",
    "\n",
    "# Concatenate molecule names and descriptors into a single DataFrame\n",
    "result_df = pd.concat([df, descriptor_df], axis=1)\n",
    "\n",
    "# Save the result DataFrame to a new Excel file\n",
    "result_excel_file_path = 'molecular_descriptors.xlsx'\n",
    "result_df.to_excel(result_excel_file_path, index=False)\n",
    "\n",
    "print(\"Molecular descriptors calculated and saved to:\", result_excel_file_path)\n"
   ]
  },
  {
   "cell_type": "code",
   "execution_count": null,
   "id": "f22ea104",
   "metadata": {},
   "outputs": [],
   "source": [
    "\n",
    "import pandas as pd\n",
    "\n",
    "# Load your original DataFrame\n",
    "# Assuming your DataFrame is named 'df' and contains at least 'Library Name' column\n",
    "# Update the path to your Excel file and sheet name\n",
    "df = pd.read_excel(' ')\n",
    "\n",
    "# Load descriptors from the Excel sheet\n",
    "# Assuming your descriptors are in 'Descriptors.xlsx' and 'Descriptors' sheet\n",
    "# Update the path to your Excel file and sheet name\n",
    "descriptors_df = pd.read_excel(' ')\n",
    "# Set 'Library Name' column as the index for descriptors DataFrame\n",
    "descriptors_df.set_index('Library Name', inplace=True)\n",
    "\n",
    "# Join the descriptors DataFrame with the original DataFrame based on 'Library Name'\n",
    "merged_df = df.join(descriptors_df, on='Library Name')\n",
    "\n",
    "# Save the merged DataFrame to a new Excel file or perform other desired operations\n",
    "merged_df.to_excel('merged_data_with_descriptors.xlsx', index=False)"
   ]
  },
  {
   "cell_type": "code",
   "execution_count": null,
   "id": "ce5cb68a",
   "metadata": {},
   "outputs": [],
   "source": [
    "import pandas as pd\n",
    "\n",
    "# Load your first DataFrame with Library Name as the first column and 200 descriptors\n",
    "# Update the path and sheet name accordingly\n",
    "descriptors_df = pd.read_excel( )\n",
    "\n",
    "# Load your second DataFrame with Library Name as a column\n",
    "# Update the path and sheet name accordingly\n",
    "library_names_df = pd.read_excel( )\n",
    "\n",
    "# Set 'Library Name' column as the index for the descriptors DataFrame\n",
    "descriptors_df.set_index('Library Name', inplace=True)\n",
    "\n",
    "# Merge the descriptors with the library names DataFrame based on 'Library Name'\n",
    "merged_df = library_names_df.merge(descriptors_df, left_on='Library Name', right_index=True, how='left')\n",
    "\n",
    "# Fill NaN values in descriptor columns with 0 or any other value as desired\n",
    "merged_df.fillna(' ', inplace=True)\n",
    "\n",
    "# Save the merged DataFrame to a new Excel file or perform other desired operations\n",
    "merged_df.to_excel('merged_data_with_descriptors.xlsx', index=False)\n",
    "\n"
   ]
  }
 ],
 "metadata": {
  "kernelspec": {
   "display_name": "Python 3 (ipykernel)",
   "language": "python",
   "name": "python3"
  },
  "language_info": {
   "codemirror_mode": {
    "name": "ipython",
    "version": 3
   },
   "file_extension": ".py",
   "mimetype": "text/x-python",
   "name": "python",
   "nbconvert_exporter": "python",
   "pygments_lexer": "ipython3",
   "version": "3.9.13"
  }
 },
 "nbformat": 4,
 "nbformat_minor": 5
}
