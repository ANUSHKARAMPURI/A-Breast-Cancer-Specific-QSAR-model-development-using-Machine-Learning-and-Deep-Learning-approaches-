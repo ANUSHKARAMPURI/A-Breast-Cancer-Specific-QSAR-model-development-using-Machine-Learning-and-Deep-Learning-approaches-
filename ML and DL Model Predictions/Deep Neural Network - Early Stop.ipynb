{
 "cells": [
  {
   "cell_type": "code",
   "execution_count": null,
   "id": "419f948b",
   "metadata": {},
   "outputs": [],
   "source": []
  },
  {
   "cell_type": "code",
   "execution_count": null,
   "id": "4ce5cc17",
   "metadata": {},
   "outputs": [],
   "source": [
    "# Import necessary libraries\n",
    "from sklearn.model_selection import train_test_split  # To split data into training and testing sets\n",
    "from sklearn.preprocessing import StandardScaler  # For standardizing input features\n",
    "from sklearn.metrics import mean_squared_error, r2_score  # For evaluating the model\n",
    "from tensorflow.keras.models import Sequential  # To create a sequential neural network model\n",
    "from tensorflow.keras.layers import Dense, Dropout  # Layers for the neural network\n",
    "from tensorflow.keras.callbacks import EarlyStopping  # Callback for early stopping"
   ]
  },
  {
   "cell_type": "code",
   "execution_count": null,
   "id": "a7daa6d2",
   "metadata": {},
   "outputs": [],
   "source": [
    "# Separate the input features (X) and target labels (Y)\n",
    "X = concatenated_df.drop(columns=['Library IC50'])  # Features\n",
    "Y = concatenated_df['Library IC50']  # Target"
   ]
  },
  {
   "cell_type": "code",
   "execution_count": null,
   "id": "0018d58a",
   "metadata": {},
   "outputs": [],
   "source": [
    "# Split the data into training and testing sets\n",
    "X_train, X_test, Y_train, Y_test = train_test_split(X, Y, test_size=0.3, random_state=42)"
   ]
  },
  {
   "cell_type": "code",
   "execution_count": null,
   "id": "435a64d3",
   "metadata": {},
   "outputs": [],
   "source": [
    "# Standardize the input features\n",
    "scaler = StandardScaler()\n",
    "X_train = scaler.fit_transform(X_train)  # Fit and transform training data\n",
    "X_test = scaler.transform(X_test)  # Transform test data"
   ]
  },
  {
   "cell_type": "code",
   "execution_count": null,
   "id": "4908ae39",
   "metadata": {},
   "outputs": [],
   "source": [
    "# Define the neural network model\n",
    "model = Sequential()\n",
    "model.add(Dense(128, input_shape=(X_train.shape[1],), activation='relu'))  # Input layer with 128 neurons\n",
    "model.add(Dropout(0.2))  # Dropout layer with a 20% dropout rate to prevent overfitting\n",
    "model.add(Dense(64, activation='relu'))  # Hidden layer with 64 neurons and ReLU activation\n",
    "model.add(Dense(32, activation='relu'))  # Hidden layer with 32 neurons and ReLU activation\n",
    "model.add(Dense(1, activation='linear'))  # Output layer with linear activation for regression"
   ]
  },
  {
   "cell_type": "code",
   "execution_count": null,
   "id": "73b3b44d",
   "metadata": {},
   "outputs": [],
   "source": [
    "# Compile the model\n",
    "model.compile(optimizer='adam', loss='mean_squared_error')  # Using the Adam optimizer and mean squared error loss\n",
    "\n",
    "# Train the model\n",
    "history = model.fit(X_train, Y_train, epochs=50, batch_size=64, validation_split=0.2, verbose=1, \n",
    "                    callbacks=[EarlyStopping(monitor='val_loss', patience=10, restore_best_weights=True)])\n",
    "# Training the model for 50 epochs with a batch size of 64, using early stopping to prevent overfitting"
   ]
  },
  {
   "cell_type": "code",
   "execution_count": null,
   "id": "f0bb1baa",
   "metadata": {},
   "outputs": [],
   "source": [
    "# Evaluate the model on the test set\n",
    "mse = model.evaluate(X_test, Y_test)  # Calculating the Mean Squared Error (MSE) on the test data\n",
    "print(f'Mean Squared Error on Test Data: {mse}')  # Printing the MSE"
   ]
  },
  {
   "cell_type": "code",
   "execution_count": null,
   "id": "ed444f06",
   "metadata": {},
   "outputs": [],
   "source": [
    "# Make predictions on the test data\n",
    "Y_pred = model.predict(X_test)  # Making predictions using the trained model on the test data"
   ]
  },
  {
   "cell_type": "code",
   "execution_count": null,
   "id": "6057d0f8",
   "metadata": {},
   "outputs": [],
   "source": [
    "r_squared = r2_score(Y_test, Y_pred)  # Computing the R-squared value for regression evaluation\n",
    "print(f'R-squared (R²): {r_squared}')  # Printing the R-squared value"
   ]
  }
 ],
 "metadata": {
  "kernelspec": {
   "display_name": "Python 3 (ipykernel)",
   "language": "python",
   "name": "python3"
  },
  "language_info": {
   "codemirror_mode": {
    "name": "ipython",
    "version": 3
   },
   "file_extension": ".py",
   "mimetype": "text/x-python",
   "name": "python",
   "nbconvert_exporter": "python",
   "pygments_lexer": "ipython3",
   "version": "3.11.4"
  }
 },
 "nbformat": 4,
 "nbformat_minor": 5
}
